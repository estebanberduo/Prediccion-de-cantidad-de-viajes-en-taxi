{
 "cells": [
  {
   "cell_type": "markdown",
   "metadata": {},
   "source": [
    "# Descripción del proyecto\n",
    "\n",
    "La compañía Sweet Lift Taxi ha recopilado datos históricos sobre pedidos de taxis en los aeropuertos. Para atraer a más conductores durante las horas pico, necesitamos predecir la cantidad de pedidos de taxis para la próxima hora. Construye un modelo para dicha predicción.\n",
    "\n",
    "La métrica RECM en el conjunto de prueba no debe ser superior a 48.\n",
    "\n",
    "## Instrucciones del proyecto.\n",
    "\n",
    "1. Descarga los datos y haz el remuestreo por una hora.\n",
    "2. Analiza los datos\n",
    "3. Entrena diferentes modelos con diferentes hiperparámetros. La muestra de prueba debe ser el 10% del conjunto de datos inicial.4. Prueba los datos usando la muestra de prueba y proporciona una conclusión.\n",
    "\n",
    "## Descripción de los datos\n",
    "\n",
    "Los datos se almacenan en el archivo `taxi.csv`. \t\n",
    "El número de pedidos está en la columna `num_orders`."
   ]
  },
  {
   "cell_type": "markdown",
   "metadata": {},
   "source": [
    "## Preparación"
   ]
  },
  {
   "cell_type": "markdown",
   "metadata": {},
   "source": [
    "### Importación de librerías y creación de variables globales"
   ]
  },
  {
   "cell_type": "code",
   "execution_count": 1,
   "metadata": {},
   "outputs": [],
   "source": [
    "import pandas as pd\n",
    "import numpy as np\n",
    "import matplotlib.pyplot as plt\n",
    "from sklearn.metrics import mean_squared_error\n",
    "\n",
    "test_size = 0.1 # tamaño del conjunto de prueba\n",
    "rs = 12345 # semilla de random state\n",
    "min_rmse = 48.0 # RMSE objetivo"
   ]
  },
  {
   "cell_type": "code",
   "execution_count": 2,
   "metadata": {},
   "outputs": [],
   "source": [
    "# Función de valoración de los modelos.\n",
    "def valoracion(model_rmse, model_name):\n",
    "    print(\"El modelo de {} posee un RMSE de {}\".format(model_name,model_rmse))\n",
    "    if model_rmse < min_rmse:\n",
    "        return \"El modelo cumple con el mínimo RMSE de {}.\".format(min_rmse)\n",
    "    return \"El modelo no cumple con el mínimo RMSE de {}\".format(min_rmse)"
   ]
  },
  {
   "cell_type": "markdown",
   "metadata": {},
   "source": [
    "### Importación de datos"
   ]
  },
  {
   "cell_type": "code",
   "execution_count": 3,
   "metadata": {
    "scrolled": true
   },
   "outputs": [
    {
     "data": {
      "text/html": [
       "<div>\n",
       "<style scoped>\n",
       "    .dataframe tbody tr th:only-of-type {\n",
       "        vertical-align: middle;\n",
       "    }\n",
       "\n",
       "    .dataframe tbody tr th {\n",
       "        vertical-align: top;\n",
       "    }\n",
       "\n",
       "    .dataframe thead th {\n",
       "        text-align: right;\n",
       "    }\n",
       "</style>\n",
       "<table border=\"1\" class=\"dataframe\">\n",
       "  <thead>\n",
       "    <tr style=\"text-align: right;\">\n",
       "      <th></th>\n",
       "      <th>num_orders</th>\n",
       "    </tr>\n",
       "    <tr>\n",
       "      <th>datetime</th>\n",
       "      <th></th>\n",
       "    </tr>\n",
       "  </thead>\n",
       "  <tbody>\n",
       "    <tr>\n",
       "      <th>2018-03-01 00:00:00</th>\n",
       "      <td>9</td>\n",
       "    </tr>\n",
       "    <tr>\n",
       "      <th>2018-03-01 00:10:00</th>\n",
       "      <td>14</td>\n",
       "    </tr>\n",
       "    <tr>\n",
       "      <th>2018-03-01 00:20:00</th>\n",
       "      <td>28</td>\n",
       "    </tr>\n",
       "    <tr>\n",
       "      <th>2018-03-01 00:30:00</th>\n",
       "      <td>20</td>\n",
       "    </tr>\n",
       "    <tr>\n",
       "      <th>2018-03-01 00:40:00</th>\n",
       "      <td>32</td>\n",
       "    </tr>\n",
       "  </tbody>\n",
       "</table>\n",
       "</div>"
      ],
      "text/plain": [
       "                     num_orders\n",
       "datetime                       \n",
       "2018-03-01 00:00:00           9\n",
       "2018-03-01 00:10:00          14\n",
       "2018-03-01 00:20:00          28\n",
       "2018-03-01 00:30:00          20\n",
       "2018-03-01 00:40:00          32"
      ]
     },
     "execution_count": 3,
     "metadata": {},
     "output_type": "execute_result"
    }
   ],
   "source": [
    "# Leemos los datos.\n",
    "df = pd.read_csv(\n",
    "    \"https://practicum-content.s3.us-west-1.amazonaws.com/datasets/taxi.csv?etag=11687de0e23962e5a11c9d8ae13eb630\",\n",
    "    index_col=[0], parse_dates=[0])\n",
    "df.sort_index(inplace=True)\n",
    "df.head()"
   ]
  },
  {
   "cell_type": "markdown",
   "metadata": {},
   "source": [
    "## Análisis\n",
    "\n",
    "La tabla solamente posee el índice en tipo fecha/hora y la columna num_orders. A continuación se analizarán sus propiedades."
   ]
  },
  {
   "cell_type": "markdown",
   "metadata": {},
   "source": [
    "### Descripción de los datos"
   ]
  },
  {
   "cell_type": "code",
   "execution_count": 4,
   "metadata": {
    "scrolled": false
   },
   "outputs": [
    {
     "name": "stdout",
     "output_type": "stream",
     "text": [
      "<class 'pandas.core.frame.DataFrame'>\n",
      "DatetimeIndex: 26496 entries, 2018-03-01 00:00:00 to 2018-08-31 23:50:00\n",
      "Data columns (total 1 columns):\n",
      " #   Column      Non-Null Count  Dtype\n",
      "---  ------      --------------  -----\n",
      " 0   num_orders  26496 non-null  int64\n",
      "dtypes: int64(1)\n",
      "memory usage: 414.0 KB\n"
     ]
    }
   ],
   "source": [
    "# Verificamos el tipo de dato de las columnas y verifiamos que no haya valores faltantes.\n",
    "df.info()"
   ]
  },
  {
   "cell_type": "code",
   "execution_count": 5,
   "metadata": {},
   "outputs": [
    {
     "data": {
      "text/html": [
       "<div>\n",
       "<style scoped>\n",
       "    .dataframe tbody tr th:only-of-type {\n",
       "        vertical-align: middle;\n",
       "    }\n",
       "\n",
       "    .dataframe tbody tr th {\n",
       "        vertical-align: top;\n",
       "    }\n",
       "\n",
       "    .dataframe thead th {\n",
       "        text-align: right;\n",
       "    }\n",
       "</style>\n",
       "<table border=\"1\" class=\"dataframe\">\n",
       "  <thead>\n",
       "    <tr style=\"text-align: right;\">\n",
       "      <th></th>\n",
       "      <th>num_orders</th>\n",
       "    </tr>\n",
       "  </thead>\n",
       "  <tbody>\n",
       "    <tr>\n",
       "      <th>count</th>\n",
       "      <td>26496.000000</td>\n",
       "    </tr>\n",
       "    <tr>\n",
       "      <th>mean</th>\n",
       "      <td>14.070463</td>\n",
       "    </tr>\n",
       "    <tr>\n",
       "      <th>std</th>\n",
       "      <td>9.211330</td>\n",
       "    </tr>\n",
       "    <tr>\n",
       "      <th>min</th>\n",
       "      <td>0.000000</td>\n",
       "    </tr>\n",
       "    <tr>\n",
       "      <th>25%</th>\n",
       "      <td>8.000000</td>\n",
       "    </tr>\n",
       "    <tr>\n",
       "      <th>50%</th>\n",
       "      <td>13.000000</td>\n",
       "    </tr>\n",
       "    <tr>\n",
       "      <th>75%</th>\n",
       "      <td>19.000000</td>\n",
       "    </tr>\n",
       "    <tr>\n",
       "      <th>max</th>\n",
       "      <td>119.000000</td>\n",
       "    </tr>\n",
       "  </tbody>\n",
       "</table>\n",
       "</div>"
      ],
      "text/plain": [
       "         num_orders\n",
       "count  26496.000000\n",
       "mean      14.070463\n",
       "std        9.211330\n",
       "min        0.000000\n",
       "25%        8.000000\n",
       "50%       13.000000\n",
       "75%       19.000000\n",
       "max      119.000000"
      ]
     },
     "execution_count": 5,
     "metadata": {},
     "output_type": "execute_result"
    }
   ],
   "source": [
    "# Vemos la distribución de los datos.\n",
    "df.describe()"
   ]
  },
  {
   "cell_type": "code",
   "execution_count": 6,
   "metadata": {},
   "outputs": [
    {
     "name": "stdout",
     "output_type": "stream",
     "text": [
      "Mínimo:  2018-03-01 00:00:00\n",
      "Máximo:  2018-08-31 23:50:00\n"
     ]
    }
   ],
   "source": [
    "# Verificamos el rango del índice.\n",
    "# La tabla comprende datos entre marzo y agosto de 2018.\n",
    "print(\"Mínimo: \",df.index.min())\n",
    "print(\"Máximo: \",df.index.max())"
   ]
  },
  {
   "cell_type": "code",
   "execution_count": 7,
   "metadata": {
    "scrolled": true
   },
   "outputs": [
    {
     "data": {
      "text/html": [
       "<div>\n",
       "<style scoped>\n",
       "    .dataframe tbody tr th:only-of-type {\n",
       "        vertical-align: middle;\n",
       "    }\n",
       "\n",
       "    .dataframe tbody tr th {\n",
       "        vertical-align: top;\n",
       "    }\n",
       "\n",
       "    .dataframe thead th {\n",
       "        text-align: right;\n",
       "    }\n",
       "</style>\n",
       "<table border=\"1\" class=\"dataframe\">\n",
       "  <thead>\n",
       "    <tr style=\"text-align: right;\">\n",
       "      <th></th>\n",
       "      <th>num_orders</th>\n",
       "    </tr>\n",
       "    <tr>\n",
       "      <th>datetime</th>\n",
       "      <th></th>\n",
       "    </tr>\n",
       "  </thead>\n",
       "  <tbody>\n",
       "    <tr>\n",
       "      <th>2018-03-01 00:00:00</th>\n",
       "      <td>124</td>\n",
       "    </tr>\n",
       "    <tr>\n",
       "      <th>2018-03-01 01:00:00</th>\n",
       "      <td>85</td>\n",
       "    </tr>\n",
       "    <tr>\n",
       "      <th>2018-03-01 02:00:00</th>\n",
       "      <td>71</td>\n",
       "    </tr>\n",
       "    <tr>\n",
       "      <th>2018-03-01 03:00:00</th>\n",
       "      <td>66</td>\n",
       "    </tr>\n",
       "    <tr>\n",
       "      <th>2018-03-01 04:00:00</th>\n",
       "      <td>43</td>\n",
       "    </tr>\n",
       "  </tbody>\n",
       "</table>\n",
       "</div>"
      ],
      "text/plain": [
       "                     num_orders\n",
       "datetime                       \n",
       "2018-03-01 00:00:00         124\n",
       "2018-03-01 01:00:00          85\n",
       "2018-03-01 02:00:00          71\n",
       "2018-03-01 03:00:00          66\n",
       "2018-03-01 04:00:00          43"
      ]
     },
     "execution_count": 7,
     "metadata": {},
     "output_type": "execute_result"
    }
   ],
   "source": [
    "# Remuestreo por una hora\n",
    "df = df.resample(\"60min\").sum()\n",
    "df.head()"
   ]
  },
  {
   "cell_type": "code",
   "execution_count": 8,
   "metadata": {
    "scrolled": true
   },
   "outputs": [
    {
     "name": "stdout",
     "output_type": "stream",
     "text": [
      "Mínimo:  2018-03-01 00:00:00\n",
      "Máximo:  2018-08-31 23:00:00\n"
     ]
    }
   ],
   "source": [
    "# Verificamos el rango del índice.\n",
    "print(\"Mínimo: \",df.index.min())\n",
    "print(\"Máximo: \",df.index.max())"
   ]
  },
  {
   "cell_type": "markdown",
   "metadata": {},
   "source": [
    "## Formación"
   ]
  },
  {
   "cell_type": "markdown",
   "metadata": {},
   "source": [
    "### Creación de características\n",
    "\n",
    "A continuación se crearán diversas características a partir de la fecha y hora."
   ]
  },
  {
   "cell_type": "code",
   "execution_count": 9,
   "metadata": {},
   "outputs": [],
   "source": [
    "def make_features(data, max_lag, rolling_mean_size):\n",
    "    data['year'] = data.index.year\n",
    "    data['month'] = data.index.month\n",
    "    data['day'] = data.index.day\n",
    "    data['dayofweek'] = data.index.dayofweek\n",
    "    data[\"hour\"] = data.index.hour\n",
    "\n",
    "    # Columnas con retraso.\n",
    "    for lag in range(1, max_lag + 1):\n",
    "        data['lag_{}'.format(lag)] = data['num_orders'].shift(lag)\n",
    "\n",
    "    # Promedio móvil.\n",
    "    data['rolling_mean'] = (\n",
    "        data['num_orders'].shift().rolling(rolling_mean_size).mean()\n",
    "    )"
   ]
  },
  {
   "cell_type": "code",
   "execution_count": 10,
   "metadata": {
    "scrolled": false
   },
   "outputs": [
    {
     "data": {
      "text/html": [
       "<div>\n",
       "<style scoped>\n",
       "    .dataframe tbody tr th:only-of-type {\n",
       "        vertical-align: middle;\n",
       "    }\n",
       "\n",
       "    .dataframe tbody tr th {\n",
       "        vertical-align: top;\n",
       "    }\n",
       "\n",
       "    .dataframe thead th {\n",
       "        text-align: right;\n",
       "    }\n",
       "</style>\n",
       "<table border=\"1\" class=\"dataframe\">\n",
       "  <thead>\n",
       "    <tr style=\"text-align: right;\">\n",
       "      <th></th>\n",
       "      <th>num_orders</th>\n",
       "      <th>year</th>\n",
       "      <th>month</th>\n",
       "      <th>day</th>\n",
       "      <th>dayofweek</th>\n",
       "      <th>hour</th>\n",
       "      <th>lag_1</th>\n",
       "      <th>lag_2</th>\n",
       "      <th>lag_3</th>\n",
       "      <th>lag_4</th>\n",
       "      <th>lag_5</th>\n",
       "      <th>lag_6</th>\n",
       "      <th>rolling_mean</th>\n",
       "    </tr>\n",
       "    <tr>\n",
       "      <th>datetime</th>\n",
       "      <th></th>\n",
       "      <th></th>\n",
       "      <th></th>\n",
       "      <th></th>\n",
       "      <th></th>\n",
       "      <th></th>\n",
       "      <th></th>\n",
       "      <th></th>\n",
       "      <th></th>\n",
       "      <th></th>\n",
       "      <th></th>\n",
       "      <th></th>\n",
       "      <th></th>\n",
       "    </tr>\n",
       "  </thead>\n",
       "  <tbody>\n",
       "    <tr>\n",
       "      <th>2018-03-01 00:00:00</th>\n",
       "      <td>124</td>\n",
       "      <td>2018</td>\n",
       "      <td>3</td>\n",
       "      <td>1</td>\n",
       "      <td>3</td>\n",
       "      <td>0</td>\n",
       "      <td>NaN</td>\n",
       "      <td>NaN</td>\n",
       "      <td>NaN</td>\n",
       "      <td>NaN</td>\n",
       "      <td>NaN</td>\n",
       "      <td>NaN</td>\n",
       "      <td>NaN</td>\n",
       "    </tr>\n",
       "    <tr>\n",
       "      <th>2018-03-01 01:00:00</th>\n",
       "      <td>85</td>\n",
       "      <td>2018</td>\n",
       "      <td>3</td>\n",
       "      <td>1</td>\n",
       "      <td>3</td>\n",
       "      <td>1</td>\n",
       "      <td>124.0</td>\n",
       "      <td>NaN</td>\n",
       "      <td>NaN</td>\n",
       "      <td>NaN</td>\n",
       "      <td>NaN</td>\n",
       "      <td>NaN</td>\n",
       "      <td>NaN</td>\n",
       "    </tr>\n",
       "    <tr>\n",
       "      <th>2018-03-01 02:00:00</th>\n",
       "      <td>71</td>\n",
       "      <td>2018</td>\n",
       "      <td>3</td>\n",
       "      <td>1</td>\n",
       "      <td>3</td>\n",
       "      <td>2</td>\n",
       "      <td>85.0</td>\n",
       "      <td>124.0</td>\n",
       "      <td>NaN</td>\n",
       "      <td>NaN</td>\n",
       "      <td>NaN</td>\n",
       "      <td>NaN</td>\n",
       "      <td>NaN</td>\n",
       "    </tr>\n",
       "    <tr>\n",
       "      <th>2018-03-01 03:00:00</th>\n",
       "      <td>66</td>\n",
       "      <td>2018</td>\n",
       "      <td>3</td>\n",
       "      <td>1</td>\n",
       "      <td>3</td>\n",
       "      <td>3</td>\n",
       "      <td>71.0</td>\n",
       "      <td>85.0</td>\n",
       "      <td>124.0</td>\n",
       "      <td>NaN</td>\n",
       "      <td>NaN</td>\n",
       "      <td>NaN</td>\n",
       "      <td>NaN</td>\n",
       "    </tr>\n",
       "    <tr>\n",
       "      <th>2018-03-01 04:00:00</th>\n",
       "      <td>43</td>\n",
       "      <td>2018</td>\n",
       "      <td>3</td>\n",
       "      <td>1</td>\n",
       "      <td>3</td>\n",
       "      <td>4</td>\n",
       "      <td>66.0</td>\n",
       "      <td>71.0</td>\n",
       "      <td>85.0</td>\n",
       "      <td>124.0</td>\n",
       "      <td>NaN</td>\n",
       "      <td>NaN</td>\n",
       "      <td>NaN</td>\n",
       "    </tr>\n",
       "  </tbody>\n",
       "</table>\n",
       "</div>"
      ],
      "text/plain": [
       "                     num_orders  year  month  day  dayofweek  hour  lag_1  \\\n",
       "datetime                                                                    \n",
       "2018-03-01 00:00:00         124  2018      3    1          3     0    NaN   \n",
       "2018-03-01 01:00:00          85  2018      3    1          3     1  124.0   \n",
       "2018-03-01 02:00:00          71  2018      3    1          3     2   85.0   \n",
       "2018-03-01 03:00:00          66  2018      3    1          3     3   71.0   \n",
       "2018-03-01 04:00:00          43  2018      3    1          3     4   66.0   \n",
       "\n",
       "                     lag_2  lag_3  lag_4  lag_5  lag_6  rolling_mean  \n",
       "datetime                                                              \n",
       "2018-03-01 00:00:00    NaN    NaN    NaN    NaN    NaN           NaN  \n",
       "2018-03-01 01:00:00    NaN    NaN    NaN    NaN    NaN           NaN  \n",
       "2018-03-01 02:00:00  124.0    NaN    NaN    NaN    NaN           NaN  \n",
       "2018-03-01 03:00:00   85.0  124.0    NaN    NaN    NaN           NaN  \n",
       "2018-03-01 04:00:00   71.0   85.0  124.0    NaN    NaN           NaN  "
      ]
     },
     "execution_count": 10,
     "metadata": {},
     "output_type": "execute_result"
    }
   ],
   "source": [
    "make_features(df,6,10)\n",
    "df.head()"
   ]
  },
  {
   "cell_type": "code",
   "execution_count": 11,
   "metadata": {},
   "outputs": [
    {
     "data": {
      "text/html": [
       "<div>\n",
       "<style scoped>\n",
       "    .dataframe tbody tr th:only-of-type {\n",
       "        vertical-align: middle;\n",
       "    }\n",
       "\n",
       "    .dataframe tbody tr th {\n",
       "        vertical-align: top;\n",
       "    }\n",
       "\n",
       "    .dataframe thead th {\n",
       "        text-align: right;\n",
       "    }\n",
       "</style>\n",
       "<table border=\"1\" class=\"dataframe\">\n",
       "  <thead>\n",
       "    <tr style=\"text-align: right;\">\n",
       "      <th></th>\n",
       "      <th>num_orders</th>\n",
       "      <th>year</th>\n",
       "      <th>month</th>\n",
       "      <th>day</th>\n",
       "      <th>dayofweek</th>\n",
       "      <th>hour</th>\n",
       "      <th>lag_1</th>\n",
       "      <th>lag_2</th>\n",
       "      <th>lag_3</th>\n",
       "      <th>lag_4</th>\n",
       "      <th>lag_5</th>\n",
       "      <th>lag_6</th>\n",
       "      <th>rolling_mean</th>\n",
       "    </tr>\n",
       "  </thead>\n",
       "  <tbody>\n",
       "    <tr>\n",
       "      <th>count</th>\n",
       "      <td>4416.000000</td>\n",
       "      <td>4416.0</td>\n",
       "      <td>4416.000000</td>\n",
       "      <td>4416.000000</td>\n",
       "      <td>4416.000000</td>\n",
       "      <td>4416.00000</td>\n",
       "      <td>4415.000000</td>\n",
       "      <td>4414.000000</td>\n",
       "      <td>4413.000000</td>\n",
       "      <td>4412.000000</td>\n",
       "      <td>4411.000000</td>\n",
       "      <td>4410.000000</td>\n",
       "      <td>4406.000000</td>\n",
       "    </tr>\n",
       "    <tr>\n",
       "      <th>mean</th>\n",
       "      <td>84.422781</td>\n",
       "      <td>2018.0</td>\n",
       "      <td>5.505435</td>\n",
       "      <td>15.836957</td>\n",
       "      <td>3.005435</td>\n",
       "      <td>11.50000</td>\n",
       "      <td>84.395470</td>\n",
       "      <td>84.364069</td>\n",
       "      <td>84.347156</td>\n",
       "      <td>84.331369</td>\n",
       "      <td>84.319655</td>\n",
       "      <td>84.291837</td>\n",
       "      <td>84.316841</td>\n",
       "    </tr>\n",
       "    <tr>\n",
       "      <th>std</th>\n",
       "      <td>45.023853</td>\n",
       "      <td>0.0</td>\n",
       "      <td>1.713306</td>\n",
       "      <td>8.855229</td>\n",
       "      <td>1.990684</td>\n",
       "      <td>6.92297</td>\n",
       "      <td>44.992356</td>\n",
       "      <td>44.949043</td>\n",
       "      <td>44.940088</td>\n",
       "      <td>44.932942</td>\n",
       "      <td>44.931299</td>\n",
       "      <td>44.898387</td>\n",
       "      <td>29.695361</td>\n",
       "    </tr>\n",
       "    <tr>\n",
       "      <th>min</th>\n",
       "      <td>0.000000</td>\n",
       "      <td>2018.0</td>\n",
       "      <td>3.000000</td>\n",
       "      <td>1.000000</td>\n",
       "      <td>0.000000</td>\n",
       "      <td>0.00000</td>\n",
       "      <td>0.000000</td>\n",
       "      <td>0.000000</td>\n",
       "      <td>0.000000</td>\n",
       "      <td>0.000000</td>\n",
       "      <td>0.000000</td>\n",
       "      <td>0.000000</td>\n",
       "      <td>27.000000</td>\n",
       "    </tr>\n",
       "    <tr>\n",
       "      <th>25%</th>\n",
       "      <td>54.000000</td>\n",
       "      <td>2018.0</td>\n",
       "      <td>4.000000</td>\n",
       "      <td>8.000000</td>\n",
       "      <td>1.000000</td>\n",
       "      <td>5.75000</td>\n",
       "      <td>54.000000</td>\n",
       "      <td>54.000000</td>\n",
       "      <td>54.000000</td>\n",
       "      <td>54.000000</td>\n",
       "      <td>54.000000</td>\n",
       "      <td>54.000000</td>\n",
       "      <td>62.600000</td>\n",
       "    </tr>\n",
       "    <tr>\n",
       "      <th>50%</th>\n",
       "      <td>78.000000</td>\n",
       "      <td>2018.0</td>\n",
       "      <td>5.500000</td>\n",
       "      <td>16.000000</td>\n",
       "      <td>3.000000</td>\n",
       "      <td>11.50000</td>\n",
       "      <td>78.000000</td>\n",
       "      <td>78.000000</td>\n",
       "      <td>78.000000</td>\n",
       "      <td>78.000000</td>\n",
       "      <td>78.000000</td>\n",
       "      <td>78.000000</td>\n",
       "      <td>80.200000</td>\n",
       "    </tr>\n",
       "    <tr>\n",
       "      <th>75%</th>\n",
       "      <td>107.000000</td>\n",
       "      <td>2018.0</td>\n",
       "      <td>7.000000</td>\n",
       "      <td>23.250000</td>\n",
       "      <td>5.000000</td>\n",
       "      <td>17.25000</td>\n",
       "      <td>107.000000</td>\n",
       "      <td>107.000000</td>\n",
       "      <td>107.000000</td>\n",
       "      <td>107.000000</td>\n",
       "      <td>107.000000</td>\n",
       "      <td>107.000000</td>\n",
       "      <td>100.700000</td>\n",
       "    </tr>\n",
       "    <tr>\n",
       "      <th>max</th>\n",
       "      <td>462.000000</td>\n",
       "      <td>2018.0</td>\n",
       "      <td>8.000000</td>\n",
       "      <td>31.000000</td>\n",
       "      <td>6.000000</td>\n",
       "      <td>23.00000</td>\n",
       "      <td>462.000000</td>\n",
       "      <td>462.000000</td>\n",
       "      <td>462.000000</td>\n",
       "      <td>462.000000</td>\n",
       "      <td>462.000000</td>\n",
       "      <td>462.000000</td>\n",
       "      <td>213.400000</td>\n",
       "    </tr>\n",
       "  </tbody>\n",
       "</table>\n",
       "</div>"
      ],
      "text/plain": [
       "        num_orders    year        month          day    dayofweek        hour  \\\n",
       "count  4416.000000  4416.0  4416.000000  4416.000000  4416.000000  4416.00000   \n",
       "mean     84.422781  2018.0     5.505435    15.836957     3.005435    11.50000   \n",
       "std      45.023853     0.0     1.713306     8.855229     1.990684     6.92297   \n",
       "min       0.000000  2018.0     3.000000     1.000000     0.000000     0.00000   \n",
       "25%      54.000000  2018.0     4.000000     8.000000     1.000000     5.75000   \n",
       "50%      78.000000  2018.0     5.500000    16.000000     3.000000    11.50000   \n",
       "75%     107.000000  2018.0     7.000000    23.250000     5.000000    17.25000   \n",
       "max     462.000000  2018.0     8.000000    31.000000     6.000000    23.00000   \n",
       "\n",
       "             lag_1        lag_2        lag_3        lag_4        lag_5  \\\n",
       "count  4415.000000  4414.000000  4413.000000  4412.000000  4411.000000   \n",
       "mean     84.395470    84.364069    84.347156    84.331369    84.319655   \n",
       "std      44.992356    44.949043    44.940088    44.932942    44.931299   \n",
       "min       0.000000     0.000000     0.000000     0.000000     0.000000   \n",
       "25%      54.000000    54.000000    54.000000    54.000000    54.000000   \n",
       "50%      78.000000    78.000000    78.000000    78.000000    78.000000   \n",
       "75%     107.000000   107.000000   107.000000   107.000000   107.000000   \n",
       "max     462.000000   462.000000   462.000000   462.000000   462.000000   \n",
       "\n",
       "             lag_6  rolling_mean  \n",
       "count  4410.000000   4406.000000  \n",
       "mean     84.291837     84.316841  \n",
       "std      44.898387     29.695361  \n",
       "min       0.000000     27.000000  \n",
       "25%      54.000000     62.600000  \n",
       "50%      78.000000     80.200000  \n",
       "75%     107.000000    100.700000  \n",
       "max     462.000000    213.400000  "
      ]
     },
     "execution_count": 11,
     "metadata": {},
     "output_type": "execute_result"
    }
   ],
   "source": [
    "df.describe()"
   ]
  },
  {
   "cell_type": "code",
   "execution_count": 12,
   "metadata": {},
   "outputs": [],
   "source": [
    "# Función para codificar los atributos cícliclos en seno y coseno.\n",
    "# De esta manera los modelos pueden captar la naturaleza cíclica de columnas como dayofweek y month.\n",
    "def encode(data, col, max_val):\n",
    "    data[col + '_sin'] = np.sin(2 * np.pi * data[col] / max_val)\n",
    "    data[col + '_cos'] = np.cos(2 * np.pi * data[col] / max_val)\n",
    "    return data"
   ]
  },
  {
   "cell_type": "code",
   "execution_count": 13,
   "metadata": {},
   "outputs": [
    {
     "data": {
      "text/html": [
       "<div>\n",
       "<style scoped>\n",
       "    .dataframe tbody tr th:only-of-type {\n",
       "        vertical-align: middle;\n",
       "    }\n",
       "\n",
       "    .dataframe tbody tr th {\n",
       "        vertical-align: top;\n",
       "    }\n",
       "\n",
       "    .dataframe thead th {\n",
       "        text-align: right;\n",
       "    }\n",
       "</style>\n",
       "<table border=\"1\" class=\"dataframe\">\n",
       "  <thead>\n",
       "    <tr style=\"text-align: right;\">\n",
       "      <th></th>\n",
       "      <th>num_orders</th>\n",
       "      <th>year</th>\n",
       "      <th>month</th>\n",
       "      <th>day</th>\n",
       "      <th>dayofweek</th>\n",
       "      <th>hour</th>\n",
       "      <th>lag_1</th>\n",
       "      <th>lag_2</th>\n",
       "      <th>lag_3</th>\n",
       "      <th>lag_4</th>\n",
       "      <th>...</th>\n",
       "      <th>lag_6</th>\n",
       "      <th>rolling_mean</th>\n",
       "      <th>month_sin</th>\n",
       "      <th>month_cos</th>\n",
       "      <th>day_sin</th>\n",
       "      <th>day_cos</th>\n",
       "      <th>dayofweek_sin</th>\n",
       "      <th>dayofweek_cos</th>\n",
       "      <th>hour_sin</th>\n",
       "      <th>hour_cos</th>\n",
       "    </tr>\n",
       "    <tr>\n",
       "      <th>datetime</th>\n",
       "      <th></th>\n",
       "      <th></th>\n",
       "      <th></th>\n",
       "      <th></th>\n",
       "      <th></th>\n",
       "      <th></th>\n",
       "      <th></th>\n",
       "      <th></th>\n",
       "      <th></th>\n",
       "      <th></th>\n",
       "      <th></th>\n",
       "      <th></th>\n",
       "      <th></th>\n",
       "      <th></th>\n",
       "      <th></th>\n",
       "      <th></th>\n",
       "      <th></th>\n",
       "      <th></th>\n",
       "      <th></th>\n",
       "      <th></th>\n",
       "      <th></th>\n",
       "    </tr>\n",
       "  </thead>\n",
       "  <tbody>\n",
       "    <tr>\n",
       "      <th>2018-08-24 10:00:00</th>\n",
       "      <td>205</td>\n",
       "      <td>2018</td>\n",
       "      <td>8</td>\n",
       "      <td>24</td>\n",
       "      <td>4</td>\n",
       "      <td>10</td>\n",
       "      <td>170.0</td>\n",
       "      <td>95.0</td>\n",
       "      <td>38.0</td>\n",
       "      <td>68.0</td>\n",
       "      <td>...</td>\n",
       "      <td>93.0</td>\n",
       "      <td>116.1</td>\n",
       "      <td>-8.660254e-01</td>\n",
       "      <td>-0.500000</td>\n",
       "      <td>-0.988468</td>\n",
       "      <td>0.151428</td>\n",
       "      <td>-0.433884</td>\n",
       "      <td>-0.900969</td>\n",
       "      <td>0.500000</td>\n",
       "      <td>-8.660254e-01</td>\n",
       "    </tr>\n",
       "    <tr>\n",
       "      <th>2018-04-01 18:00:00</th>\n",
       "      <td>53</td>\n",
       "      <td>2018</td>\n",
       "      <td>4</td>\n",
       "      <td>1</td>\n",
       "      <td>6</td>\n",
       "      <td>18</td>\n",
       "      <td>50.0</td>\n",
       "      <td>100.0</td>\n",
       "      <td>50.0</td>\n",
       "      <td>44.0</td>\n",
       "      <td>...</td>\n",
       "      <td>33.0</td>\n",
       "      <td>55.8</td>\n",
       "      <td>8.660254e-01</td>\n",
       "      <td>-0.500000</td>\n",
       "      <td>0.201299</td>\n",
       "      <td>0.979530</td>\n",
       "      <td>-0.781831</td>\n",
       "      <td>0.623490</td>\n",
       "      <td>-1.000000</td>\n",
       "      <td>-1.836970e-16</td>\n",
       "    </tr>\n",
       "    <tr>\n",
       "      <th>2018-06-30 08:00:00</th>\n",
       "      <td>103</td>\n",
       "      <td>2018</td>\n",
       "      <td>6</td>\n",
       "      <td>30</td>\n",
       "      <td>5</td>\n",
       "      <td>8</td>\n",
       "      <td>24.0</td>\n",
       "      <td>22.0</td>\n",
       "      <td>39.0</td>\n",
       "      <td>146.0</td>\n",
       "      <td>...</td>\n",
       "      <td>151.0</td>\n",
       "      <td>109.8</td>\n",
       "      <td>1.224647e-16</td>\n",
       "      <td>-1.000000</td>\n",
       "      <td>-0.201299</td>\n",
       "      <td>0.979530</td>\n",
       "      <td>-0.974928</td>\n",
       "      <td>-0.222521</td>\n",
       "      <td>0.866025</td>\n",
       "      <td>-5.000000e-01</td>\n",
       "    </tr>\n",
       "    <tr>\n",
       "      <th>2018-05-26 09:00:00</th>\n",
       "      <td>89</td>\n",
       "      <td>2018</td>\n",
       "      <td>5</td>\n",
       "      <td>26</td>\n",
       "      <td>5</td>\n",
       "      <td>9</td>\n",
       "      <td>84.0</td>\n",
       "      <td>35.0</td>\n",
       "      <td>7.0</td>\n",
       "      <td>34.0</td>\n",
       "      <td>...</td>\n",
       "      <td>136.0</td>\n",
       "      <td>104.7</td>\n",
       "      <td>5.000000e-01</td>\n",
       "      <td>-0.866025</td>\n",
       "      <td>-0.848644</td>\n",
       "      <td>0.528964</td>\n",
       "      <td>-0.974928</td>\n",
       "      <td>-0.222521</td>\n",
       "      <td>0.707107</td>\n",
       "      <td>-7.071068e-01</td>\n",
       "    </tr>\n",
       "    <tr>\n",
       "      <th>2018-07-25 16:00:00</th>\n",
       "      <td>134</td>\n",
       "      <td>2018</td>\n",
       "      <td>7</td>\n",
       "      <td>25</td>\n",
       "      <td>2</td>\n",
       "      <td>16</td>\n",
       "      <td>119.0</td>\n",
       "      <td>95.0</td>\n",
       "      <td>99.0</td>\n",
       "      <td>83.0</td>\n",
       "      <td>...</td>\n",
       "      <td>95.0</td>\n",
       "      <td>89.7</td>\n",
       "      <td>-5.000000e-01</td>\n",
       "      <td>-0.866025</td>\n",
       "      <td>-0.937752</td>\n",
       "      <td>0.347305</td>\n",
       "      <td>0.974928</td>\n",
       "      <td>-0.222521</td>\n",
       "      <td>-0.866025</td>\n",
       "      <td>-5.000000e-01</td>\n",
       "    </tr>\n",
       "  </tbody>\n",
       "</table>\n",
       "<p>5 rows × 21 columns</p>\n",
       "</div>"
      ],
      "text/plain": [
       "                     num_orders  year  month  day  dayofweek  hour  lag_1  \\\n",
       "datetime                                                                    \n",
       "2018-08-24 10:00:00         205  2018      8   24          4    10  170.0   \n",
       "2018-04-01 18:00:00          53  2018      4    1          6    18   50.0   \n",
       "2018-06-30 08:00:00         103  2018      6   30          5     8   24.0   \n",
       "2018-05-26 09:00:00          89  2018      5   26          5     9   84.0   \n",
       "2018-07-25 16:00:00         134  2018      7   25          2    16  119.0   \n",
       "\n",
       "                     lag_2  lag_3  lag_4  ...  lag_6  rolling_mean  \\\n",
       "datetime                                  ...                        \n",
       "2018-08-24 10:00:00   95.0   38.0   68.0  ...   93.0         116.1   \n",
       "2018-04-01 18:00:00  100.0   50.0   44.0  ...   33.0          55.8   \n",
       "2018-06-30 08:00:00   22.0   39.0  146.0  ...  151.0         109.8   \n",
       "2018-05-26 09:00:00   35.0    7.0   34.0  ...  136.0         104.7   \n",
       "2018-07-25 16:00:00   95.0   99.0   83.0  ...   95.0          89.7   \n",
       "\n",
       "                        month_sin  month_cos   day_sin   day_cos  \\\n",
       "datetime                                                           \n",
       "2018-08-24 10:00:00 -8.660254e-01  -0.500000 -0.988468  0.151428   \n",
       "2018-04-01 18:00:00  8.660254e-01  -0.500000  0.201299  0.979530   \n",
       "2018-06-30 08:00:00  1.224647e-16  -1.000000 -0.201299  0.979530   \n",
       "2018-05-26 09:00:00  5.000000e-01  -0.866025 -0.848644  0.528964   \n",
       "2018-07-25 16:00:00 -5.000000e-01  -0.866025 -0.937752  0.347305   \n",
       "\n",
       "                     dayofweek_sin  dayofweek_cos  hour_sin      hour_cos  \n",
       "datetime                                                                   \n",
       "2018-08-24 10:00:00      -0.433884      -0.900969  0.500000 -8.660254e-01  \n",
       "2018-04-01 18:00:00      -0.781831       0.623490 -1.000000 -1.836970e-16  \n",
       "2018-06-30 08:00:00      -0.974928      -0.222521  0.866025 -5.000000e-01  \n",
       "2018-05-26 09:00:00      -0.974928      -0.222521  0.707107 -7.071068e-01  \n",
       "2018-07-25 16:00:00       0.974928      -0.222521 -0.866025 -5.000000e-01  \n",
       "\n",
       "[5 rows x 21 columns]"
      ]
     },
     "execution_count": 13,
     "metadata": {},
     "output_type": "execute_result"
    }
   ],
   "source": [
    "encode(df,\"month\",12)\n",
    "encode(df,\"day\",31)\n",
    "encode(df,\"dayofweek\",7)\n",
    "encode(df,\"hour\",24)\n",
    "df.sample(5)"
   ]
  },
  {
   "cell_type": "code",
   "execution_count": 14,
   "metadata": {},
   "outputs": [],
   "source": [
    "# Retiramos las columnas originales\n",
    "df.drop([\"month\",\"day\",\"dayofweek\",\"hour\"],axis=1,inplace=True)"
   ]
  },
  {
   "cell_type": "code",
   "execution_count": 15,
   "metadata": {},
   "outputs": [],
   "source": [
    "# Dividimos los datos en conjuntos de entrenamiento y prueba.\n",
    "from sklearn.model_selection import train_test_split\n",
    "\n",
    "df2 = df.dropna()\n",
    "X = df2.drop(\"num_orders\",axis=1)\n",
    "y = df2[\"num_orders\"]\n",
    "\n",
    "X_train, X_test, y_train, y_test = train_test_split(X, y, test_size=test_size, random_state = rs, shuffle=False)\n"
   ]
  },
  {
   "cell_type": "markdown",
   "metadata": {},
   "source": [
    "## Prueba de Modelos"
   ]
  },
  {
   "cell_type": "markdown",
   "metadata": {},
   "source": [
    "### Regresión Lineal"
   ]
  },
  {
   "cell_type": "code",
   "execution_count": 16,
   "metadata": {},
   "outputs": [
    {
     "name": "stdout",
     "output_type": "stream",
     "text": [
      "El modelo de Regresión Lineal posee un RMSE de 53.14063605805457\n"
     ]
    },
    {
     "data": {
      "text/plain": [
       "'El modelo no cumple con el mínimo RMSE de 48.0'"
      ]
     },
     "execution_count": 16,
     "metadata": {},
     "output_type": "execute_result"
    }
   ],
   "source": [
    "from sklearn.linear_model import LinearRegression\n",
    "\n",
    "lr = LinearRegression()\n",
    "lr.fit(X_train,y_train)\n",
    "lr_preds = lr.predict(X_test)\n",
    "lr_rmse = mean_squared_error(y_test,lr_preds,squared=False)\n",
    "valoracion(lr_rmse, \"Regresión Lineal\")"
   ]
  },
  {
   "cell_type": "markdown",
   "metadata": {},
   "source": [
    "### Árbol de Decisión"
   ]
  },
  {
   "cell_type": "code",
   "execution_count": 17,
   "metadata": {},
   "outputs": [],
   "source": [
    "from sklearn.tree import DecisionTreeRegressor\n",
    "\n",
    "dt_best_model = None\n",
    "dt_best_result = float(\"inf\")\n",
    "dt_best_depth = 0"
   ]
  },
  {
   "cell_type": "code",
   "execution_count": 18,
   "metadata": {},
   "outputs": [
    {
     "name": "stdout",
     "output_type": "stream",
     "text": [
      "El modelo de Árbol de Decisión posee un RMSE de 50.26122596675444\n",
      "CPU times: user 1.09 s, sys: 1.01 ms, total: 1.09 s\n",
      "Wall time: 1.09 s\n"
     ]
    },
    {
     "data": {
      "text/plain": [
       "'El modelo no cumple con el mínimo RMSE de 48.0'"
      ]
     },
     "execution_count": 18,
     "metadata": {},
     "output_type": "execute_result"
    }
   ],
   "source": [
    "%%time\n",
    "for depth in range(1, 40): # selecciona el rango del hiperparámetro\n",
    "    model = DecisionTreeRegressor(random_state=rs,max_depth=depth) # entrena el modelo en el conjunto de entrenamiento\n",
    "    model.fit(X_train,y_train) # entrena el modelo en el conjunto de entrenamiento\n",
    "    predictions_valid = model.predict(X_test) # obtén las predicciones del modelo en el conjunto de validación\n",
    "    result = mean_squared_error(y_test,predictions_valid,squared=False) # calcula la RECM en el conjunto de validación\n",
    "    if result < dt_best_result:\n",
    "        dt_best_model = model\n",
    "        dt_best_result = result\n",
    "        dt_best_depth = depth\n",
    "\n",
    "#print(f\"RECM del mejor modelo en el conjunto de validación (max_depth = {dt_best_depth}): {dt_best_result}\")\n",
    "valoracion(dt_best_result,\"Árbol de Decisión\")"
   ]
  },
  {
   "cell_type": "markdown",
   "metadata": {},
   "source": [
    "### Bosque Aleatorio"
   ]
  },
  {
   "cell_type": "code",
   "execution_count": 19,
   "metadata": {},
   "outputs": [],
   "source": [
    "from sklearn.ensemble import RandomForestRegressor\n",
    "\n",
    "rf_best_score = float(\"inf\")\n",
    "rf_best_est = 0\n",
    "rf_best_depth = 0\n",
    "rf_best_model = None"
   ]
  },
  {
   "cell_type": "code",
   "execution_count": 20,
   "metadata": {},
   "outputs": [
    {
     "name": "stdout",
     "output_type": "stream",
     "text": [
      "Mejores Hiperparámetros:\n",
      "    Estimators:  10\n",
      "    Depth:  23\n",
      "El modelo de Bosque Aleatorio posee un RMSE de 43.91842916242346\n",
      "CPU times: user 41.8 s, sys: 156 ms, total: 42 s\n",
      "Wall time: 42 s\n"
     ]
    },
    {
     "data": {
      "text/plain": [
       "'El modelo cumple con el mínimo RMSE de 48.0.'"
      ]
     },
     "execution_count": 20,
     "metadata": {},
     "output_type": "execute_result"
    }
   ],
   "source": [
    "%%time\n",
    "# Seleccionamos el rango del hiperparámetro.\n",
    "for est in range(10, 50,10):\n",
    "    for depth in range(5,30):\n",
    "    \n",
    "        # Iniciamos el constructor.\n",
    "        model = RandomForestRegressor(random_state=rs, n_estimators=est, max_depth = depth)\n",
    "    \n",
    "        # Entrenamos el modelo en el conjunto de entrenamiento.\n",
    "        model.fit(X_train, y_train)\n",
    "    \n",
    "        # Realizamos predicciones en el conjunto de validación\n",
    "        preds = model.predict(X_test)\n",
    "    \n",
    "        # Calculamos la exactitud.\n",
    "        #score = model.score(features_val,target_val)\n",
    "    \n",
    "        # Calculamos el RMSE\n",
    "        score = mean_squared_error(y_test,preds,squared=False)\n",
    "    \n",
    "        # Guardamos la cantidad de estimadores que generaron el mejor puntaje.\n",
    "        if score < rf_best_score:\n",
    "            rf_best_model = model\n",
    "            rf_best_score = score\n",
    "            rf_best_est = est\n",
    "            rf_best_depth = depth\n",
    "\n",
    "#print(\"El RMSE del mejor modelo en el conjunto de validación (n_estimators = {}, max_depth = {}): {}\".format(\n",
    "#    rf_best_est, rf_best_depth, rf_best_score))\n",
    "print(\"Mejores Hiperparámetros:\")\n",
    "print(\"    Estimators: \",rf_best_est)\n",
    "print(\"    Depth: \",rf_best_depth)\n",
    "valoracion(rf_best_score,\"Bosque Aleatorio\")"
   ]
  },
  {
   "cell_type": "markdown",
   "metadata": {},
   "source": [
    "## Conclusión"
   ]
  },
  {
   "cell_type": "markdown",
   "metadata": {},
   "source": [
    "En el presente proyecto se realizaron distintos modelos con el objetivo de encontrar a uno que pueda predecir el número de órdenes en la serie de tiempo proporcionada por la empresa Swift Lift Taxi. Luego de probar varios modelos se encontró un modelo de Bosque Aleatorio que cumple con un RMSE menor al objetivo de 48. El resultado fue el siguiente:\n",
    "\n",
    "| Modelo | RMSE |\n",
    "|---|---|\n",
    "| Bosque Aleatorio | 43.91 |\n",
    "| Árbol de Decisión | 50.26 |\n",
    "| Regresión Lineal | 53.14 |\n",
    "\n",
    "Esperamos seguir contando con la confianza de Swift Lift Taxi para futuros proyectos."
   ]
  }
 ],
 "metadata": {
  "ExecuteTimeLog": [
   {
    "duration": 2167,
    "start_time": "2024-09-23T01:12:06.256Z"
   },
   {
    "duration": 660,
    "start_time": "2024-09-23T01:12:10.074Z"
   },
   {
    "duration": 9,
    "start_time": "2024-09-23T01:13:33.166Z"
   },
   {
    "duration": 4,
    "start_time": "2024-09-23T01:13:43.886Z"
   },
   {
    "duration": 564,
    "start_time": "2024-09-23T01:14:09.818Z"
   },
   {
    "duration": 12,
    "start_time": "2024-09-23T01:14:13.862Z"
   },
   {
    "duration": 4,
    "start_time": "2024-09-23T01:14:16.920Z"
   },
   {
    "duration": 10,
    "start_time": "2024-09-23T01:14:48.692Z"
   },
   {
    "duration": 4,
    "start_time": "2024-09-23T01:16:35.113Z"
   },
   {
    "duration": 5,
    "start_time": "2024-09-23T01:17:15.494Z"
   },
   {
    "duration": 487,
    "start_time": "2024-09-23T01:19:58.560Z"
   },
   {
    "duration": 7,
    "start_time": "2024-09-23T01:21:11.431Z"
   },
   {
    "duration": 4,
    "start_time": "2024-09-23T01:21:13.766Z"
   },
   {
    "duration": 573,
    "start_time": "2024-09-23T01:21:17.530Z"
   },
   {
    "duration": 10,
    "start_time": "2024-09-23T01:21:22.906Z"
   },
   {
    "duration": 6,
    "start_time": "2024-09-23T01:21:34.899Z"
   },
   {
    "duration": 5,
    "start_time": "2024-09-23T01:21:36.854Z"
   },
   {
    "duration": 416,
    "start_time": "2024-09-23T01:21:41.564Z"
   },
   {
    "duration": 718,
    "start_time": "2024-09-23T01:21:41.982Z"
   },
   {
    "duration": 8,
    "start_time": "2024-09-23T01:21:42.702Z"
   },
   {
    "duration": 9,
    "start_time": "2024-09-23T01:21:42.712Z"
   },
   {
    "duration": 4,
    "start_time": "2024-09-23T01:21:42.723Z"
   },
   {
    "duration": 9,
    "start_time": "2024-09-23T01:21:42.729Z"
   },
   {
    "duration": 4,
    "start_time": "2024-09-23T01:27:47.766Z"
   },
   {
    "duration": 404,
    "start_time": "2024-09-23T01:29:03.672Z"
   },
   {
    "duration": 610,
    "start_time": "2024-09-23T01:29:04.078Z"
   },
   {
    "duration": 8,
    "start_time": "2024-09-23T01:29:04.689Z"
   },
   {
    "duration": 9,
    "start_time": "2024-09-23T01:29:04.699Z"
   },
   {
    "duration": 4,
    "start_time": "2024-09-23T01:29:04.710Z"
   },
   {
    "duration": 10,
    "start_time": "2024-09-23T01:29:04.715Z"
   },
   {
    "duration": 4,
    "start_time": "2024-09-23T01:29:04.727Z"
   },
   {
    "duration": 4,
    "start_time": "2024-09-23T01:29:28.459Z"
   },
   {
    "duration": 5,
    "start_time": "2024-09-23T01:30:47.273Z"
   },
   {
    "duration": 3,
    "start_time": "2024-09-23T01:31:05.422Z"
   },
   {
    "duration": 436,
    "start_time": "2024-09-23T01:31:21.928Z"
   },
   {
    "duration": 674,
    "start_time": "2024-09-23T01:31:22.368Z"
   },
   {
    "duration": 8,
    "start_time": "2024-09-23T01:31:23.044Z"
   },
   {
    "duration": 11,
    "start_time": "2024-09-23T01:31:23.053Z"
   },
   {
    "duration": 3,
    "start_time": "2024-09-23T01:31:23.066Z"
   },
   {
    "duration": 9,
    "start_time": "2024-09-23T01:31:23.071Z"
   },
   {
    "duration": 3,
    "start_time": "2024-09-23T01:31:23.082Z"
   },
   {
    "duration": 25,
    "start_time": "2024-09-23T01:31:23.087Z"
   },
   {
    "duration": 10,
    "start_time": "2024-09-23T01:32:25.314Z"
   },
   {
    "duration": 18,
    "start_time": "2024-09-23T01:42:49.789Z"
   },
   {
    "duration": 24,
    "start_time": "2024-09-23T01:43:12.173Z"
   },
   {
    "duration": 4,
    "start_time": "2024-09-23T01:46:55.996Z"
   },
   {
    "duration": 19,
    "start_time": "2024-09-23T01:48:35.157Z"
   },
   {
    "duration": 462,
    "start_time": "2024-09-23T01:53:40.597Z"
   },
   {
    "duration": 11,
    "start_time": "2024-09-23T01:53:48.085Z"
   },
   {
    "duration": 4,
    "start_time": "2024-09-23T01:54:34.168Z"
   },
   {
    "duration": 7,
    "start_time": "2024-09-23T01:54:39.325Z"
   },
   {
    "duration": 7,
    "start_time": "2024-09-23T01:55:24.263Z"
   },
   {
    "duration": 10,
    "start_time": "2024-09-23T01:55:30.063Z"
   },
   {
    "duration": 427,
    "start_time": "2024-09-23T01:56:02.611Z"
   },
   {
    "duration": 589,
    "start_time": "2024-09-23T01:56:03.040Z"
   },
   {
    "duration": 8,
    "start_time": "2024-09-23T01:56:03.630Z"
   },
   {
    "duration": 9,
    "start_time": "2024-09-23T01:56:03.640Z"
   },
   {
    "duration": 3,
    "start_time": "2024-09-23T01:56:03.651Z"
   },
   {
    "duration": 9,
    "start_time": "2024-09-23T01:56:03.656Z"
   },
   {
    "duration": 4,
    "start_time": "2024-09-23T01:56:03.666Z"
   },
   {
    "duration": 49,
    "start_time": "2024-09-23T01:56:03.671Z"
   },
   {
    "duration": 19,
    "start_time": "2024-09-23T01:56:03.721Z"
   },
   {
    "duration": 3,
    "start_time": "2024-09-23T01:56:03.742Z"
   },
   {
    "duration": 18,
    "start_time": "2024-09-23T01:56:03.746Z"
   },
   {
    "duration": 4,
    "start_time": "2024-09-23T01:56:03.765Z"
   },
   {
    "duration": 458,
    "start_time": "2024-09-23T01:56:03.771Z"
   },
   {
    "duration": 10,
    "start_time": "2024-09-23T01:56:04.232Z"
   },
   {
    "duration": 402,
    "start_time": "2024-09-23T02:05:05.370Z"
   },
   {
    "duration": 695,
    "start_time": "2024-09-23T02:05:05.774Z"
   },
   {
    "duration": 8,
    "start_time": "2024-09-23T02:05:06.471Z"
   },
   {
    "duration": 10,
    "start_time": "2024-09-23T02:05:06.481Z"
   },
   {
    "duration": 3,
    "start_time": "2024-09-23T02:05:06.492Z"
   },
   {
    "duration": 10,
    "start_time": "2024-09-23T02:05:06.497Z"
   },
   {
    "duration": 3,
    "start_time": "2024-09-23T02:05:06.508Z"
   },
   {
    "duration": 11,
    "start_time": "2024-09-23T02:05:06.512Z"
   },
   {
    "duration": 19,
    "start_time": "2024-09-23T02:05:06.525Z"
   },
   {
    "duration": 3,
    "start_time": "2024-09-23T02:05:06.546Z"
   },
   {
    "duration": 17,
    "start_time": "2024-09-23T02:05:06.551Z"
   },
   {
    "duration": 3,
    "start_time": "2024-09-23T02:05:06.570Z"
   },
   {
    "duration": 460,
    "start_time": "2024-09-23T02:05:06.574Z"
   },
   {
    "duration": 10,
    "start_time": "2024-09-23T02:05:07.035Z"
   },
   {
    "duration": 439,
    "start_time": "2024-09-23T02:10:13.138Z"
   },
   {
    "duration": 654,
    "start_time": "2024-09-23T02:10:15.276Z"
   },
   {
    "duration": 9,
    "start_time": "2024-09-23T02:10:18.581Z"
   },
   {
    "duration": 11,
    "start_time": "2024-09-23T02:10:20.524Z"
   },
   {
    "duration": 3,
    "start_time": "2024-09-23T02:10:22.862Z"
   },
   {
    "duration": 13,
    "start_time": "2024-09-23T02:10:25.088Z"
   },
   {
    "duration": 4,
    "start_time": "2024-09-23T02:10:27.468Z"
   },
   {
    "duration": 4,
    "start_time": "2024-09-23T02:10:31.506Z"
   },
   {
    "duration": 20,
    "start_time": "2024-09-23T02:10:33.956Z"
   },
   {
    "duration": 31,
    "start_time": "2024-09-23T02:10:43.239Z"
   },
   {
    "duration": 3,
    "start_time": "2024-09-23T02:10:48.821Z"
   },
   {
    "duration": 583,
    "start_time": "2024-09-23T02:10:51.738Z"
   },
   {
    "duration": 21,
    "start_time": "2024-09-23T02:11:04.186Z"
   },
   {
    "duration": 473,
    "start_time": "2024-09-23T02:11:24.467Z"
   },
   {
    "duration": 9,
    "start_time": "2024-09-23T02:11:49.842Z"
   },
   {
    "duration": 2,
    "start_time": "2024-09-23T02:12:59.127Z"
   },
   {
    "duration": 65,
    "start_time": "2024-09-23T02:13:48.300Z"
   },
   {
    "duration": 153,
    "start_time": "2024-09-23T02:13:56.539Z"
   },
   {
    "duration": 44,
    "start_time": "2024-09-23T02:14:35.334Z"
   },
   {
    "duration": 9,
    "start_time": "2024-09-23T02:14:42.926Z"
   },
   {
    "duration": 9,
    "start_time": "2024-09-23T02:16:42.589Z"
   },
   {
    "duration": 12,
    "start_time": "2024-09-23T02:16:46.816Z"
   },
   {
    "duration": 900,
    "start_time": "2024-09-23T02:17:40.162Z"
   },
   {
    "duration": 738,
    "start_time": "2024-09-23T02:17:41.064Z"
   },
   {
    "duration": 8,
    "start_time": "2024-09-23T02:17:41.804Z"
   },
   {
    "duration": 9,
    "start_time": "2024-09-23T02:17:41.814Z"
   },
   {
    "duration": 3,
    "start_time": "2024-09-23T02:17:41.825Z"
   },
   {
    "duration": 9,
    "start_time": "2024-09-23T02:17:41.830Z"
   },
   {
    "duration": 3,
    "start_time": "2024-09-23T02:17:41.840Z"
   },
   {
    "duration": 3,
    "start_time": "2024-09-23T02:17:41.845Z"
   },
   {
    "duration": 11,
    "start_time": "2024-09-23T02:17:41.850Z"
   },
   {
    "duration": 50,
    "start_time": "2024-09-23T02:17:41.863Z"
   },
   {
    "duration": 3,
    "start_time": "2024-09-23T02:17:41.915Z"
   },
   {
    "duration": 18,
    "start_time": "2024-09-23T02:17:41.921Z"
   },
   {
    "duration": 2,
    "start_time": "2024-09-23T02:17:41.941Z"
   },
   {
    "duration": 11,
    "start_time": "2024-09-23T02:17:41.947Z"
   },
   {
    "duration": 11,
    "start_time": "2024-09-23T02:17:41.959Z"
   },
   {
    "duration": 53,
    "start_time": "2024-09-23T02:17:41.971Z"
   },
   {
    "duration": 918,
    "start_time": "2024-09-23T02:18:04.634Z"
   },
   {
    "duration": 617,
    "start_time": "2024-09-23T02:18:05.556Z"
   },
   {
    "duration": 8,
    "start_time": "2024-09-23T02:18:06.175Z"
   },
   {
    "duration": 10,
    "start_time": "2024-09-23T02:18:06.184Z"
   },
   {
    "duration": 3,
    "start_time": "2024-09-23T02:18:06.197Z"
   },
   {
    "duration": 9,
    "start_time": "2024-09-23T02:18:06.202Z"
   },
   {
    "duration": 4,
    "start_time": "2024-09-23T02:18:06.212Z"
   },
   {
    "duration": 5,
    "start_time": "2024-09-23T02:18:06.217Z"
   },
   {
    "duration": 0,
    "start_time": "2024-09-23T02:18:06.223Z"
   },
   {
    "duration": 0,
    "start_time": "2024-09-23T02:18:06.225Z"
   },
   {
    "duration": 0,
    "start_time": "2024-09-23T02:18:06.226Z"
   },
   {
    "duration": 0,
    "start_time": "2024-09-23T02:18:06.227Z"
   },
   {
    "duration": 0,
    "start_time": "2024-09-23T02:18:06.228Z"
   },
   {
    "duration": 0,
    "start_time": "2024-09-23T02:18:06.229Z"
   },
   {
    "duration": 0,
    "start_time": "2024-09-23T02:18:06.230Z"
   },
   {
    "duration": 0,
    "start_time": "2024-09-23T02:18:06.231Z"
   },
   {
    "duration": 866,
    "start_time": "2024-09-23T02:18:19.660Z"
   },
   {
    "duration": 561,
    "start_time": "2024-09-23T02:18:20.528Z"
   },
   {
    "duration": 8,
    "start_time": "2024-09-23T02:18:21.093Z"
   },
   {
    "duration": 9,
    "start_time": "2024-09-23T02:18:21.104Z"
   },
   {
    "duration": 3,
    "start_time": "2024-09-23T02:18:21.115Z"
   },
   {
    "duration": 9,
    "start_time": "2024-09-23T02:18:21.119Z"
   },
   {
    "duration": 4,
    "start_time": "2024-09-23T02:18:21.129Z"
   },
   {
    "duration": 3,
    "start_time": "2024-09-23T02:18:21.135Z"
   },
   {
    "duration": 10,
    "start_time": "2024-09-23T02:18:21.139Z"
   },
   {
    "duration": 18,
    "start_time": "2024-09-23T02:18:21.150Z"
   },
   {
    "duration": 3,
    "start_time": "2024-09-23T02:18:21.169Z"
   },
   {
    "duration": 45,
    "start_time": "2024-09-23T02:18:21.174Z"
   },
   {
    "duration": 3,
    "start_time": "2024-09-23T02:18:21.222Z"
   },
   {
    "duration": 12,
    "start_time": "2024-09-23T02:18:21.226Z"
   },
   {
    "duration": 11,
    "start_time": "2024-09-23T02:18:21.240Z"
   },
   {
    "duration": 59,
    "start_time": "2024-09-23T02:18:21.253Z"
   },
   {
    "duration": 847,
    "start_time": "2024-09-23T02:18:32.790Z"
   },
   {
    "duration": 502,
    "start_time": "2024-09-23T02:18:33.639Z"
   },
   {
    "duration": 8,
    "start_time": "2024-09-23T02:18:34.143Z"
   },
   {
    "duration": 9,
    "start_time": "2024-09-23T02:18:34.153Z"
   },
   {
    "duration": 3,
    "start_time": "2024-09-23T02:18:34.165Z"
   },
   {
    "duration": 8,
    "start_time": "2024-09-23T02:18:34.170Z"
   },
   {
    "duration": 3,
    "start_time": "2024-09-23T02:18:34.180Z"
   },
   {
    "duration": 25,
    "start_time": "2024-09-23T02:18:34.185Z"
   },
   {
    "duration": 10,
    "start_time": "2024-09-23T02:18:34.211Z"
   },
   {
    "duration": 17,
    "start_time": "2024-09-23T02:18:34.223Z"
   },
   {
    "duration": 3,
    "start_time": "2024-09-23T02:18:34.242Z"
   },
   {
    "duration": 18,
    "start_time": "2024-09-23T02:18:34.246Z"
   },
   {
    "duration": 898,
    "start_time": "2024-09-23T02:18:34.265Z"
   },
   {
    "duration": 0,
    "start_time": "2024-09-23T02:18:35.165Z"
   },
   {
    "duration": 0,
    "start_time": "2024-09-23T02:18:35.166Z"
   },
   {
    "duration": 0,
    "start_time": "2024-09-23T02:18:35.167Z"
   },
   {
    "duration": 890,
    "start_time": "2024-09-23T02:18:56.236Z"
   },
   {
    "duration": 608,
    "start_time": "2024-09-23T02:18:57.128Z"
   },
   {
    "duration": 9,
    "start_time": "2024-09-23T02:18:57.739Z"
   },
   {
    "duration": 10,
    "start_time": "2024-09-23T02:18:57.749Z"
   },
   {
    "duration": 3,
    "start_time": "2024-09-23T02:18:57.761Z"
   },
   {
    "duration": 9,
    "start_time": "2024-09-23T02:18:57.766Z"
   },
   {
    "duration": 3,
    "start_time": "2024-09-23T02:18:57.777Z"
   },
   {
    "duration": 30,
    "start_time": "2024-09-23T02:18:57.781Z"
   },
   {
    "duration": 10,
    "start_time": "2024-09-23T02:18:57.813Z"
   },
   {
    "duration": 18,
    "start_time": "2024-09-23T02:18:57.825Z"
   },
   {
    "duration": 3,
    "start_time": "2024-09-23T02:18:57.844Z"
   },
   {
    "duration": 17,
    "start_time": "2024-09-23T02:18:57.849Z"
   },
   {
    "duration": 3,
    "start_time": "2024-09-23T02:18:57.868Z"
   },
   {
    "duration": 13,
    "start_time": "2024-09-23T02:18:57.908Z"
   },
   {
    "duration": 8,
    "start_time": "2024-09-23T02:18:57.924Z"
   },
   {
    "duration": 20,
    "start_time": "2024-09-23T02:18:57.934Z"
   },
   {
    "duration": 881,
    "start_time": "2024-09-23T02:19:26.990Z"
   },
   {
    "duration": 494,
    "start_time": "2024-09-23T02:19:27.873Z"
   },
   {
    "duration": 8,
    "start_time": "2024-09-23T02:19:28.369Z"
   },
   {
    "duration": 9,
    "start_time": "2024-09-23T02:19:28.378Z"
   },
   {
    "duration": 2,
    "start_time": "2024-09-23T02:19:28.391Z"
   },
   {
    "duration": 9,
    "start_time": "2024-09-23T02:19:28.395Z"
   },
   {
    "duration": 2,
    "start_time": "2024-09-23T02:19:28.406Z"
   },
   {
    "duration": 4,
    "start_time": "2024-09-23T02:19:28.410Z"
   },
   {
    "duration": 17,
    "start_time": "2024-09-23T02:19:28.415Z"
   },
   {
    "duration": 29,
    "start_time": "2024-09-23T02:19:28.434Z"
   },
   {
    "duration": 3,
    "start_time": "2024-09-23T02:19:28.465Z"
   },
   {
    "duration": 46,
    "start_time": "2024-09-23T02:19:28.470Z"
   },
   {
    "duration": 3,
    "start_time": "2024-09-23T02:19:28.517Z"
   },
   {
    "duration": 12,
    "start_time": "2024-09-23T02:19:28.522Z"
   },
   {
    "duration": 8,
    "start_time": "2024-09-23T02:19:28.536Z"
   },
   {
    "duration": 64,
    "start_time": "2024-09-23T02:19:28.545Z"
   },
   {
    "duration": 3,
    "start_time": "2024-09-23T02:23:35.035Z"
   },
   {
    "duration": 406,
    "start_time": "2024-09-23T02:23:59.118Z"
   },
   {
    "duration": 3,
    "start_time": "2024-09-23T02:24:07.860Z"
   },
   {
    "duration": 10,
    "start_time": "2024-09-23T02:24:12.081Z"
   },
   {
    "duration": 17,
    "start_time": "2024-09-23T02:25:54.795Z"
   },
   {
    "duration": 212,
    "start_time": "2024-09-23T02:25:56.398Z"
   },
   {
    "duration": 20,
    "start_time": "2024-09-23T02:27:44.472Z"
   },
   {
    "duration": 5,
    "start_time": "2024-09-23T02:27:47.930Z"
   },
   {
    "duration": 8,
    "start_time": "2024-09-23T02:27:49.933Z"
   },
   {
    "duration": 208,
    "start_time": "2024-09-23T02:28:11.987Z"
   },
   {
    "duration": 5,
    "start_time": "2024-09-23T02:28:13.806Z"
   },
   {
    "duration": 7,
    "start_time": "2024-09-23T02:28:18.849Z"
   },
   {
    "duration": 8,
    "start_time": "2024-09-23T02:56:14.140Z"
   },
   {
    "duration": 10,
    "start_time": "2024-09-23T02:56:15.611Z"
   },
   {
    "duration": 242,
    "start_time": "2024-09-23T02:56:48.918Z"
   },
   {
    "duration": 277,
    "start_time": "2024-09-23T02:58:08.321Z"
   },
   {
    "duration": 859,
    "start_time": "2024-09-23T02:58:15.511Z"
   },
   {
    "duration": 3,
    "start_time": "2024-09-23T02:58:16.373Z"
   },
   {
    "duration": 545,
    "start_time": "2024-09-23T02:58:16.378Z"
   },
   {
    "duration": 8,
    "start_time": "2024-09-23T02:58:16.925Z"
   },
   {
    "duration": 10,
    "start_time": "2024-09-23T02:58:16.935Z"
   },
   {
    "duration": 4,
    "start_time": "2024-09-23T02:58:16.946Z"
   },
   {
    "duration": 10,
    "start_time": "2024-09-23T02:58:16.951Z"
   },
   {
    "duration": 3,
    "start_time": "2024-09-23T02:58:16.963Z"
   },
   {
    "duration": 40,
    "start_time": "2024-09-23T02:58:16.968Z"
   },
   {
    "duration": 17,
    "start_time": "2024-09-23T02:58:17.010Z"
   },
   {
    "duration": 29,
    "start_time": "2024-09-23T02:58:17.029Z"
   },
   {
    "duration": 4,
    "start_time": "2024-09-23T02:58:17.061Z"
   },
   {
    "duration": 42,
    "start_time": "2024-09-23T02:58:17.067Z"
   },
   {
    "duration": 2,
    "start_time": "2024-09-23T02:58:17.112Z"
   },
   {
    "duration": 11,
    "start_time": "2024-09-23T02:58:17.116Z"
   },
   {
    "duration": 23,
    "start_time": "2024-09-23T02:58:17.128Z"
   },
   {
    "duration": 73,
    "start_time": "2024-09-23T02:58:17.152Z"
   },
   {
    "duration": 523,
    "start_time": "2024-09-23T02:58:17.226Z"
   },
   {
    "duration": 295,
    "start_time": "2024-09-23T02:58:28.667Z"
   },
   {
    "duration": 242,
    "start_time": "2024-09-23T02:58:48.200Z"
   },
   {
    "duration": 1282,
    "start_time": "2024-09-23T02:59:14.434Z"
   },
   {
    "duration": 9,
    "start_time": "2024-09-23T03:01:37.223Z"
   },
   {
    "duration": 48,
    "start_time": "2024-09-23T03:01:38.949Z"
   },
   {
    "duration": 106211,
    "start_time": "2024-09-23T03:01:45.199Z"
   },
   {
    "duration": 106118,
    "start_time": "2024-09-23T03:05:19.746Z"
   },
   {
    "duration": 872,
    "start_time": "2024-09-23T03:08:14.177Z"
   },
   {
    "duration": 3,
    "start_time": "2024-09-23T03:08:15.051Z"
   },
   {
    "duration": 708,
    "start_time": "2024-09-23T03:08:15.056Z"
   },
   {
    "duration": 9,
    "start_time": "2024-09-23T03:08:15.766Z"
   },
   {
    "duration": 9,
    "start_time": "2024-09-23T03:08:15.777Z"
   },
   {
    "duration": 3,
    "start_time": "2024-09-23T03:08:15.788Z"
   },
   {
    "duration": 9,
    "start_time": "2024-09-23T03:08:15.793Z"
   },
   {
    "duration": 3,
    "start_time": "2024-09-23T03:08:15.803Z"
   },
   {
    "duration": 4,
    "start_time": "2024-09-23T03:08:15.808Z"
   },
   {
    "duration": 17,
    "start_time": "2024-09-23T03:08:15.814Z"
   },
   {
    "duration": 30,
    "start_time": "2024-09-23T03:08:15.832Z"
   },
   {
    "duration": 4,
    "start_time": "2024-09-23T03:08:15.864Z"
   },
   {
    "duration": 46,
    "start_time": "2024-09-23T03:08:15.870Z"
   },
   {
    "duration": 3,
    "start_time": "2024-09-23T03:08:15.918Z"
   },
   {
    "duration": 10,
    "start_time": "2024-09-23T03:08:15.923Z"
   },
   {
    "duration": 23,
    "start_time": "2024-09-23T03:08:15.935Z"
   },
   {
    "duration": 81,
    "start_time": "2024-09-23T03:08:15.959Z"
   },
   {
    "duration": 1173,
    "start_time": "2024-09-23T03:08:16.110Z"
   },
   {
    "duration": 9,
    "start_time": "2024-09-23T03:08:17.286Z"
   },
   {
    "duration": 43607,
    "start_time": "2024-09-23T03:08:17.297Z"
   },
   {
    "duration": 849,
    "start_time": "2024-09-23T03:09:52.160Z"
   },
   {
    "duration": 3,
    "start_time": "2024-09-23T03:09:53.011Z"
   },
   {
    "duration": 577,
    "start_time": "2024-09-23T03:09:53.016Z"
   },
   {
    "duration": 8,
    "start_time": "2024-09-23T03:09:53.594Z"
   },
   {
    "duration": 9,
    "start_time": "2024-09-23T03:09:53.605Z"
   },
   {
    "duration": 4,
    "start_time": "2024-09-23T03:09:53.616Z"
   },
   {
    "duration": 9,
    "start_time": "2024-09-23T03:09:53.621Z"
   },
   {
    "duration": 3,
    "start_time": "2024-09-23T03:09:53.632Z"
   },
   {
    "duration": 4,
    "start_time": "2024-09-23T03:09:53.637Z"
   },
   {
    "duration": 0,
    "start_time": "2024-09-23T03:09:53.643Z"
   },
   {
    "duration": 0,
    "start_time": "2024-09-23T03:09:53.645Z"
   },
   {
    "duration": 0,
    "start_time": "2024-09-23T03:09:53.646Z"
   },
   {
    "duration": 0,
    "start_time": "2024-09-23T03:09:53.648Z"
   },
   {
    "duration": 0,
    "start_time": "2024-09-23T03:09:53.649Z"
   },
   {
    "duration": 0,
    "start_time": "2024-09-23T03:09:53.651Z"
   },
   {
    "duration": 0,
    "start_time": "2024-09-23T03:09:53.652Z"
   },
   {
    "duration": 0,
    "start_time": "2024-09-23T03:09:53.654Z"
   },
   {
    "duration": 0,
    "start_time": "2024-09-23T03:09:53.656Z"
   },
   {
    "duration": 0,
    "start_time": "2024-09-23T03:09:53.657Z"
   },
   {
    "duration": 0,
    "start_time": "2024-09-23T03:09:53.659Z"
   },
   {
    "duration": 890,
    "start_time": "2024-09-23T03:10:07.964Z"
   },
   {
    "duration": 3,
    "start_time": "2024-09-23T03:10:08.856Z"
   },
   {
    "duration": 641,
    "start_time": "2024-09-23T03:10:08.860Z"
   },
   {
    "duration": 8,
    "start_time": "2024-09-23T03:10:09.505Z"
   },
   {
    "duration": 10,
    "start_time": "2024-09-23T03:10:09.515Z"
   },
   {
    "duration": 3,
    "start_time": "2024-09-23T03:10:09.527Z"
   },
   {
    "duration": 9,
    "start_time": "2024-09-23T03:10:09.531Z"
   },
   {
    "duration": 3,
    "start_time": "2024-09-23T03:10:09.542Z"
   },
   {
    "duration": 3,
    "start_time": "2024-09-23T03:10:09.547Z"
   },
   {
    "duration": 10,
    "start_time": "2024-09-23T03:10:09.553Z"
   },
   {
    "duration": 54,
    "start_time": "2024-09-23T03:10:09.565Z"
   },
   {
    "duration": 3,
    "start_time": "2024-09-23T03:10:09.621Z"
   },
   {
    "duration": 17,
    "start_time": "2024-09-23T03:10:09.626Z"
   },
   {
    "duration": 3,
    "start_time": "2024-09-23T03:10:09.645Z"
   },
   {
    "duration": 11,
    "start_time": "2024-09-23T03:10:09.650Z"
   },
   {
    "duration": 50,
    "start_time": "2024-09-23T03:10:09.663Z"
   },
   {
    "duration": 17,
    "start_time": "2024-09-23T03:10:09.715Z"
   },
   {
    "duration": 498,
    "start_time": "2024-09-23T03:10:09.734Z"
   },
   {
    "duration": 8,
    "start_time": "2024-09-23T03:10:10.234Z"
   },
   {
    "duration": 14558,
    "start_time": "2024-09-23T03:10:10.243Z"
   },
   {
    "duration": 922,
    "start_time": "2024-09-23T03:11:06.457Z"
   },
   {
    "duration": 3,
    "start_time": "2024-09-23T03:11:07.381Z"
   },
   {
    "duration": 979,
    "start_time": "2024-09-23T03:11:07.385Z"
   },
   {
    "duration": 8,
    "start_time": "2024-09-23T03:11:08.366Z"
   },
   {
    "duration": 9,
    "start_time": "2024-09-23T03:11:08.377Z"
   },
   {
    "duration": 2,
    "start_time": "2024-09-23T03:11:08.388Z"
   },
   {
    "duration": 9,
    "start_time": "2024-09-23T03:11:08.392Z"
   },
   {
    "duration": 2,
    "start_time": "2024-09-23T03:11:08.404Z"
   },
   {
    "duration": 5,
    "start_time": "2024-09-23T03:11:08.408Z"
   },
   {
    "duration": 13,
    "start_time": "2024-09-23T03:11:08.414Z"
   },
   {
    "duration": 19,
    "start_time": "2024-09-23T03:11:08.429Z"
   },
   {
    "duration": 3,
    "start_time": "2024-09-23T03:11:08.449Z"
   },
   {
    "duration": 18,
    "start_time": "2024-09-23T03:11:08.453Z"
   },
   {
    "duration": 4,
    "start_time": "2024-09-23T03:11:08.473Z"
   },
   {
    "duration": 35,
    "start_time": "2024-09-23T03:11:08.478Z"
   },
   {
    "duration": 20,
    "start_time": "2024-09-23T03:11:08.515Z"
   },
   {
    "duration": 16,
    "start_time": "2024-09-23T03:11:08.537Z"
   },
   {
    "duration": 659,
    "start_time": "2024-09-23T03:11:08.554Z"
   },
   {
    "duration": 9,
    "start_time": "2024-09-23T03:11:09.214Z"
   },
   {
    "duration": 20345,
    "start_time": "2024-09-23T03:11:09.224Z"
   },
   {
    "duration": 888,
    "start_time": "2024-09-23T03:12:03.751Z"
   },
   {
    "duration": 3,
    "start_time": "2024-09-23T03:12:04.641Z"
   },
   {
    "duration": 555,
    "start_time": "2024-09-23T03:12:04.646Z"
   },
   {
    "duration": 8,
    "start_time": "2024-09-23T03:12:05.203Z"
   },
   {
    "duration": 9,
    "start_time": "2024-09-23T03:12:05.214Z"
   },
   {
    "duration": 3,
    "start_time": "2024-09-23T03:12:05.225Z"
   },
   {
    "duration": 10,
    "start_time": "2024-09-23T03:12:05.229Z"
   },
   {
    "duration": 3,
    "start_time": "2024-09-23T03:12:05.240Z"
   },
   {
    "duration": 4,
    "start_time": "2024-09-23T03:12:05.245Z"
   },
   {
    "duration": 18,
    "start_time": "2024-09-23T03:12:05.251Z"
   },
   {
    "duration": 32,
    "start_time": "2024-09-23T03:12:05.308Z"
   },
   {
    "duration": 3,
    "start_time": "2024-09-23T03:12:05.342Z"
   },
   {
    "duration": 24,
    "start_time": "2024-09-23T03:12:05.347Z"
   },
   {
    "duration": 3,
    "start_time": "2024-09-23T03:12:05.375Z"
   },
   {
    "duration": 38,
    "start_time": "2024-09-23T03:12:05.380Z"
   },
   {
    "duration": 25,
    "start_time": "2024-09-23T03:12:05.420Z"
   },
   {
    "duration": 71,
    "start_time": "2024-09-23T03:12:05.447Z"
   },
   {
    "duration": 1243,
    "start_time": "2024-09-23T03:12:05.519Z"
   },
   {
    "duration": 9,
    "start_time": "2024-09-23T03:12:06.764Z"
   },
   {
    "duration": 42083,
    "start_time": "2024-09-23T03:12:06.774Z"
   },
   {
    "duration": 869,
    "start_time": "2024-09-23T03:29:40.296Z"
   },
   {
    "duration": 3,
    "start_time": "2024-09-23T03:29:41.168Z"
   },
   {
    "duration": 663,
    "start_time": "2024-09-23T03:29:41.173Z"
   },
   {
    "duration": 8,
    "start_time": "2024-09-23T03:29:41.837Z"
   },
   {
    "duration": 9,
    "start_time": "2024-09-23T03:29:41.848Z"
   },
   {
    "duration": 3,
    "start_time": "2024-09-23T03:29:41.858Z"
   },
   {
    "duration": 9,
    "start_time": "2024-09-23T03:29:41.864Z"
   },
   {
    "duration": 3,
    "start_time": "2024-09-23T03:29:41.874Z"
   },
   {
    "duration": 31,
    "start_time": "2024-09-23T03:29:41.879Z"
   },
   {
    "duration": 19,
    "start_time": "2024-09-23T03:29:41.913Z"
   },
   {
    "duration": 30,
    "start_time": "2024-09-23T03:29:41.933Z"
   },
   {
    "duration": 3,
    "start_time": "2024-09-23T03:29:41.965Z"
   },
   {
    "duration": 46,
    "start_time": "2024-09-23T03:29:41.969Z"
   },
   {
    "duration": 4,
    "start_time": "2024-09-23T03:29:42.019Z"
   },
   {
    "duration": 10,
    "start_time": "2024-09-23T03:29:42.025Z"
   },
   {
    "duration": 21,
    "start_time": "2024-09-23T03:29:42.037Z"
   },
   {
    "duration": 63,
    "start_time": "2024-09-23T03:29:42.060Z"
   },
   {
    "duration": 1233,
    "start_time": "2024-09-23T03:29:42.125Z"
   },
   {
    "duration": 9,
    "start_time": "2024-09-23T03:29:43.360Z"
   },
   {
    "duration": 42047,
    "start_time": "2024-09-23T03:29:43.371Z"
   }
  ],
  "kernelspec": {
   "display_name": "Python 3 (ipykernel)",
   "language": "python",
   "name": "python3"
  },
  "language_info": {
   "codemirror_mode": {
    "name": "ipython",
    "version": 3
   },
   "file_extension": ".py",
   "mimetype": "text/x-python",
   "name": "python",
   "nbconvert_exporter": "python",
   "pygments_lexer": "ipython3",
   "version": "3.9.19"
  },
  "toc": {
   "base_numbering": 1,
   "nav_menu": {},
   "number_sections": true,
   "sideBar": true,
   "skip_h1_title": true,
   "title_cell": "Table of Contents",
   "title_sidebar": "Contents",
   "toc_cell": false,
   "toc_position": {},
   "toc_section_display": true,
   "toc_window_display": false
  }
 },
 "nbformat": 4,
 "nbformat_minor": 2
}
